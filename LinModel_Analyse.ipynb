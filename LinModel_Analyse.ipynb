{
 "cells": [
  {
   "cell_type": "code",
   "execution_count": 1,
   "metadata": {},
   "outputs": [],
   "source": [
    "# import database\n",
    "url2019 = \"https://odata4.cbs.nl/CBS/84583NED\" # Kerncijfers wijken en buurten 2019\n",
    "url2017 = \"https://odata4.cbs.nl/CBS/83765NED\" # Kerncijfers wijken en buurten 2017\n",
    "# Toelichting: https://www.cbs.nl/nl-nl/maatwerk/2017/31/kerncijfers-wijken-en-buurten-2017"
   ]
  },
  {
   "cell_type": "code",
   "execution_count": 2,
   "metadata": {},
   "outputs": [],
   "source": [
    "import numpy as np\n",
    "import pandas as pd\n",
    "import re\n",
    "import time\n",
    "import CBSparserOData4\n",
    "from PC4e6_database import *\n",
    "import matplotlib.pyplot as plt\n",
    "from scipy import stats"
   ]
  },
  {
   "cell_type": "code",
   "execution_count": 3,
   "metadata": {},
   "outputs": [
    {
     "name": "stderr",
     "output_type": "stream",
     "text": [
      "C:\\Users\\DKuipers\\Anaconda3\\lib\\site-packages\\IPython\\core\\interactiveshell.py:3214: DtypeWarning: Columns (7) have mixed types. Specify dtype option on import or set low_memory=False.\n",
      "  if (yield from self.run_code(code, result)):\n"
     ]
    }
   ],
   "source": [
    "stemEP, register = laad_uitslagenPC6(\"adressen_gl_prioriteit/adressen_EP2019.csv\")"
   ]
  },
  {
   "cell_type": "code",
   "execution_count": 4,
   "metadata": {},
   "outputs": [],
   "source": [
    "demo = laad_CBSdataPC6('CBS_PC6_selectie.csv')"
   ]
  },
  {
   "cell_type": "code",
   "execution_count": 13,
   "metadata": {},
   "outputs": [
    {
     "name": "stdout",
     "output_type": "stream",
     "text": [
      "['MAN', 'VROUW', 'INW_014', 'INW_1524', 'INW_2544', 'INW_4564', 'INW_65PL', 'UITKMINAOW', 'stemperc', 'D66_percentage', 'GL_percentage', 'PvdA_percentage', 'PvdD_percentage', 'SP_percentage', 'DENK_percentage']\n"
     ]
    },
    {
     "data": {
      "text/html": [
       "<div>\n",
       "<style scoped>\n",
       "    .dataframe tbody tr th:only-of-type {\n",
       "        vertical-align: middle;\n",
       "    }\n",
       "\n",
       "    .dataframe tbody tr th {\n",
       "        vertical-align: top;\n",
       "    }\n",
       "\n",
       "    .dataframe thead th {\n",
       "        text-align: right;\n",
       "    }\n",
       "</style>\n",
       "<table border=\"1\" class=\"dataframe\">\n",
       "  <thead>\n",
       "    <tr style=\"text-align: right;\">\n",
       "      <th></th>\n",
       "      <th>MAN</th>\n",
       "      <th>VROUW</th>\n",
       "      <th>INW_014</th>\n",
       "      <th>INW_1524</th>\n",
       "      <th>INW_2544</th>\n",
       "      <th>INW_4564</th>\n",
       "      <th>INW_65PL</th>\n",
       "      <th>UITKMINAOW</th>\n",
       "      <th>stemperc</th>\n",
       "      <th>D66_percentage</th>\n",
       "      <th>GL_percentage</th>\n",
       "      <th>PvdA_percentage</th>\n",
       "      <th>PvdD_percentage</th>\n",
       "      <th>SP_percentage</th>\n",
       "      <th>DENK_percentage</th>\n",
       "    </tr>\n",
       "  </thead>\n",
       "  <tbody>\n",
       "    <tr>\n",
       "      <th>count</th>\n",
       "      <td>96650.000000</td>\n",
       "      <td>96650.000000</td>\n",
       "      <td>96650.000000</td>\n",
       "      <td>96650.000000</td>\n",
       "      <td>96650.000000</td>\n",
       "      <td>96650.000000</td>\n",
       "      <td>96650.000000</td>\n",
       "      <td>96650.000000</td>\n",
       "      <td>96650.000000</td>\n",
       "      <td>96650.000000</td>\n",
       "      <td>96650.000000</td>\n",
       "      <td>96650.000000</td>\n",
       "      <td>96650.000000</td>\n",
       "      <td>96650.000000</td>\n",
       "      <td>96650.000000</td>\n",
       "    </tr>\n",
       "    <tr>\n",
       "      <th>mean</th>\n",
       "      <td>0.493940</td>\n",
       "      <td>0.505052</td>\n",
       "      <td>0.138758</td>\n",
       "      <td>0.109130</td>\n",
       "      <td>0.285279</td>\n",
       "      <td>0.252227</td>\n",
       "      <td>0.131858</td>\n",
       "      <td>0.072691</td>\n",
       "      <td>0.566345</td>\n",
       "      <td>0.086685</td>\n",
       "      <td>0.158904</td>\n",
       "      <td>0.197107</td>\n",
       "      <td>0.052219</td>\n",
       "      <td>0.039290</td>\n",
       "      <td>0.032117</td>\n",
       "    </tr>\n",
       "    <tr>\n",
       "      <th>std</th>\n",
       "      <td>0.081630</td>\n",
       "      <td>0.081868</td>\n",
       "      <td>0.116603</td>\n",
       "      <td>0.127360</td>\n",
       "      <td>0.158426</td>\n",
       "      <td>0.124244</td>\n",
       "      <td>0.173400</td>\n",
       "      <td>0.109507</td>\n",
       "      <td>0.118320</td>\n",
       "      <td>0.035861</td>\n",
       "      <td>0.075584</td>\n",
       "      <td>0.042663</td>\n",
       "      <td>0.019385</td>\n",
       "      <td>0.020829</td>\n",
       "      <td>0.061040</td>\n",
       "    </tr>\n",
       "    <tr>\n",
       "      <th>min</th>\n",
       "      <td>0.000000</td>\n",
       "      <td>0.000000</td>\n",
       "      <td>0.000000</td>\n",
       "      <td>0.000000</td>\n",
       "      <td>0.000000</td>\n",
       "      <td>0.000000</td>\n",
       "      <td>0.000000</td>\n",
       "      <td>0.000000</td>\n",
       "      <td>0.049505</td>\n",
       "      <td>0.005780</td>\n",
       "      <td>0.000000</td>\n",
       "      <td>0.014851</td>\n",
       "      <td>0.000000</td>\n",
       "      <td>0.000000</td>\n",
       "      <td>0.000000</td>\n",
       "    </tr>\n",
       "    <tr>\n",
       "      <th>25%</th>\n",
       "      <td>0.444444</td>\n",
       "      <td>0.454545</td>\n",
       "      <td>0.000000</td>\n",
       "      <td>0.000000</td>\n",
       "      <td>0.181818</td>\n",
       "      <td>0.166667</td>\n",
       "      <td>0.000000</td>\n",
       "      <td>0.000000</td>\n",
       "      <td>0.484330</td>\n",
       "      <td>0.058511</td>\n",
       "      <td>0.099476</td>\n",
       "      <td>0.168539</td>\n",
       "      <td>0.038321</td>\n",
       "      <td>0.023810</td>\n",
       "      <td>0.002327</td>\n",
       "    </tr>\n",
       "    <tr>\n",
       "      <th>50%</th>\n",
       "      <td>0.500000</td>\n",
       "      <td>0.500000</td>\n",
       "      <td>0.142857</td>\n",
       "      <td>0.100000</td>\n",
       "      <td>0.285714</td>\n",
       "      <td>0.250000</td>\n",
       "      <td>0.090909</td>\n",
       "      <td>0.000000</td>\n",
       "      <td>0.560272</td>\n",
       "      <td>0.081143</td>\n",
       "      <td>0.140394</td>\n",
       "      <td>0.194190</td>\n",
       "      <td>0.050738</td>\n",
       "      <td>0.035714</td>\n",
       "      <td>0.009375</td>\n",
       "    </tr>\n",
       "    <tr>\n",
       "      <th>75%</th>\n",
       "      <td>0.545455</td>\n",
       "      <td>0.555556</td>\n",
       "      <td>0.222222</td>\n",
       "      <td>0.166667</td>\n",
       "      <td>0.375000</td>\n",
       "      <td>0.333333</td>\n",
       "      <td>0.200000</td>\n",
       "      <td>0.130435</td>\n",
       "      <td>0.657250</td>\n",
       "      <td>0.111503</td>\n",
       "      <td>0.210660</td>\n",
       "      <td>0.222631</td>\n",
       "      <td>0.064179</td>\n",
       "      <td>0.051033</td>\n",
       "      <td>0.032727</td>\n",
       "    </tr>\n",
       "    <tr>\n",
       "      <th>max</th>\n",
       "      <td>1.000000</td>\n",
       "      <td>1.000000</td>\n",
       "      <td>1.000000</td>\n",
       "      <td>1.000000</td>\n",
       "      <td>1.000000</td>\n",
       "      <td>0.888889</td>\n",
       "      <td>1.000000</td>\n",
       "      <td>1.000000</td>\n",
       "      <td>0.907937</td>\n",
       "      <td>0.217445</td>\n",
       "      <td>0.438486</td>\n",
       "      <td>0.363853</td>\n",
       "      <td>0.184035</td>\n",
       "      <td>0.139130</td>\n",
       "      <td>0.585034</td>\n",
       "    </tr>\n",
       "  </tbody>\n",
       "</table>\n",
       "</div>"
      ],
      "text/plain": [
       "                MAN         VROUW       INW_014      INW_1524      INW_2544  \\\n",
       "count  96650.000000  96650.000000  96650.000000  96650.000000  96650.000000   \n",
       "mean       0.493940      0.505052      0.138758      0.109130      0.285279   \n",
       "std        0.081630      0.081868      0.116603      0.127360      0.158426   \n",
       "min        0.000000      0.000000      0.000000      0.000000      0.000000   \n",
       "25%        0.444444      0.454545      0.000000      0.000000      0.181818   \n",
       "50%        0.500000      0.500000      0.142857      0.100000      0.285714   \n",
       "75%        0.545455      0.555556      0.222222      0.166667      0.375000   \n",
       "max        1.000000      1.000000      1.000000      1.000000      1.000000   \n",
       "\n",
       "           INW_4564      INW_65PL    UITKMINAOW      stemperc  D66_percentage  \\\n",
       "count  96650.000000  96650.000000  96650.000000  96650.000000    96650.000000   \n",
       "mean       0.252227      0.131858      0.072691      0.566345        0.086685   \n",
       "std        0.124244      0.173400      0.109507      0.118320        0.035861   \n",
       "min        0.000000      0.000000      0.000000      0.049505        0.005780   \n",
       "25%        0.166667      0.000000      0.000000      0.484330        0.058511   \n",
       "50%        0.250000      0.090909      0.000000      0.560272        0.081143   \n",
       "75%        0.333333      0.200000      0.130435      0.657250        0.111503   \n",
       "max        0.888889      1.000000      1.000000      0.907937        0.217445   \n",
       "\n",
       "       GL_percentage  PvdA_percentage  PvdD_percentage  SP_percentage  \\\n",
       "count   96650.000000     96650.000000     96650.000000   96650.000000   \n",
       "mean        0.158904         0.197107         0.052219       0.039290   \n",
       "std         0.075584         0.042663         0.019385       0.020829   \n",
       "min         0.000000         0.014851         0.000000       0.000000   \n",
       "25%         0.099476         0.168539         0.038321       0.023810   \n",
       "50%         0.140394         0.194190         0.050738       0.035714   \n",
       "75%         0.210660         0.222631         0.064179       0.051033   \n",
       "max         0.438486         0.363853         0.184035       0.139130   \n",
       "\n",
       "       DENK_percentage  \n",
       "count     96650.000000  \n",
       "mean          0.032117  \n",
       "std           0.061040  \n",
       "min           0.000000  \n",
       "25%           0.002327  \n",
       "50%           0.009375  \n",
       "75%           0.032727  \n",
       "max           0.585034  "
      ]
     },
     "execution_count": 13,
     "metadata": {},
     "output_type": "execute_result"
    }
   ],
   "source": [
    "dataPC6 = join_PC6(stemEP,demo)\n",
    "dataPC6.head()\n",
    "\n",
    "feature_select = ['MAN','VROUW','UITKMINAOW'] # WON_MR_GEX bevat nog foutieve waarden\n",
    "dataPC6 = normaliseer_PC6(dataPC6,feature_select, drempel = 30)\n",
    "dataPC6.describe()"
   ]
  },
  {
   "cell_type": "code",
   "execution_count": 6,
   "metadata": {},
   "outputs": [
    {
     "name": "stdout",
     "output_type": "stream",
     "text": [
      "['MAN', 'VROUW', 'INW_014', 'INW_1524', 'INW_2544', 'INW_4564', 'INW_65PL', 'UITKMINAOW']\n"
     ]
    }
   ],
   "source": [
    "xcols = list(dataPC6.columns[0:8])\n",
    "print(xcols)"
   ]
  },
  {
   "cell_type": "code",
   "execution_count": 15,
   "metadata": {},
   "outputs": [
    {
     "data": {
      "image/png": "[encoded data removed]",
      "text/plain": [
       "<Figure size 432x288 with 3 Axes>"
      ]
     },
     "metadata": {
      "needs_background": "light"
     },
     "output_type": "display_data"
    }
   ],
   "source": [
    "# Met dank aan https://www.w3schools.com/python/python_ml_linear_regression.asp\n",
    "plot_selectie = ['MAN','VROUW','UITKMINAOW']\n",
    "#plot_selectie = ['INW_014','INW_1524','INW_2544','INW_4564','INW_65PL']\n",
    "y_feature = 'GL_percentage'\n",
    "fig, ax = plt.subplots( len(plot_selectie) )\n",
    "kolommen = ['slope','intercept','r','p','std_err']\n",
    "rijen = []\n",
    "\n",
    "for n, feature in enumerate(plot_selectie):\n",
    "    x = dataPC6[feature]\n",
    "    slope, intercept, r, p, std_err = stats.linregress(x, dataPC6[y_feature])\n",
    "    rij = pd.Series((slope,intercept,r,p,std_err), index = kolommen)\n",
    "    rijen.append(rij)\n",
    "    \n",
    "    def linfunc(x):\n",
    "        return slope*x + intercept\n",
    "    linmodel = list(map(linfunc, x))\n",
    "    ax[n].scatter(x,dataPC6[y_feature], s=0.1)\n",
    "    ax[n].plot(x,linmodel,c='r')\n",
    "\n",
    "data = pd.DataFrame(rijen, index = plot_selectie)\n",
    "plt.show()"
   ]
  },
  {
   "cell_type": "code",
   "execution_count": null,
   "metadata": {},
   "outputs": [],
   "source": []
  },
  {
   "cell_type": "code",
   "execution_count": null,
   "metadata": {},
   "outputs": [],
   "source": []
  },
  {
   "cell_type": "code",
   "execution_count": null,
   "metadata": {},
   "outputs": [],
   "source": []
  },
  {
   "cell_type": "markdown",
   "metadata": {},
   "source": [
    "Misschien is het goed om de uitschieters in de data te bekijken. Welke invloed het nemen van de mediaan heeft bij het laden van de uitslagen? Als het model beter wordt door uitschieters weg te laten of minder te laten wegen, is hyet model dan wel betrouwbaar voor PC6-en met een laag aantal inwoners?"
   ]
  },
  {
   "cell_type": "code",
   "execution_count": null,
   "metadata": {},
   "outputs": [],
   "source": []
  }
 ],
 "metadata": {
  "kernelspec": {
   "display_name": "Python 3",
   "language": "python",
   "name": "python3"
  },
  "language_info": {
   "codemirror_mode": {
    "name": "ipython",
    "version": 3
   },
   "file_extension": ".py",
   "mimetype": "text/x-python",
   "name": "python",
   "nbconvert_exporter": "python",
   "pygments_lexer": "ipython3",
   "version": "3.6.8"
  }
 },
 "nbformat": 4,
 "nbformat_minor": 2
}
