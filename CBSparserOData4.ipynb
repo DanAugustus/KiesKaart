{
 "cells": [
  {
   "cell_type": "markdown",
   "metadata": {},
   "source": [
    "# Python functies voor Odata4\n",
    "Functies voor ophalen, inspecteren en samenvoegen van data van CBS"
   ]
  },
  {
   "cell_type": "markdown",
   "metadata": {},
   "source": [
    "## Meer info\n",
    "\n",
    "- https://www.cbs.nl/nl-nl/onze-diensten/open-data/open-data-v4/snelstartgids-odata-v4\n",
    "- https://www.cbs.nl/nl-nl/onze-diensten/open-data/open-data-v4/metadata-odata-v4\n",
    "- Ook code voor R beschikbaar."
   ]
  },
  {
   "cell_type": "markdown",
   "metadata": {},
   "source": [
    "# Definieren functies"
   ]
  },
  {
   "cell_type": "code",
   "execution_count": 4,
   "metadata": {},
   "outputs": [],
   "source": [
    "import pandas as pd\n",
    "import requests\n",
    "\n",
    "def get_odata(target_url):\n",
    "    \n",
    "    \"\"\"\"\n",
    "    De functie gebruikt een API genaamd OData om data van het CBS op te halen.\n",
    "    De data wordt in stukken opgehaald en in een pandas dataframe gezet.\n",
    "    De URL moet er zo uitzien: \"https://odata4.cbs.nl/CBS/83765NED\"\n",
    "    De code van de tabel die je zoekt vindt je via Statline.\n",
    "    Ga naar de data in Statline op de website van het CBS en kijk naar de URL om de code te vinden.\n",
    "    \"\"\"\n",
    "    \n",
    "    data = pd.DataFrame()\n",
    "    while target_url:\n",
    "        r = requests.get(target_url).json()\n",
    "        data = data.append(pd.DataFrame(r['value']))\n",
    "        \n",
    "        if '@odata.nextLink' in r:\n",
    "            target_url = r['@odata.nextLink']\n",
    "        else:\n",
    "            target_url = None\n",
    "            \n",
    "    return data"
   ]
  },
  {
   "cell_type": "markdown",
   "metadata": {},
   "source": [
    "De functie gebruikt een API genaamd OData om data van het CBS op te halen.\n",
    "De data wordt in stukken opgehaald en in een pandas dataframe gezet.\n",
    "De URL moet er zo uitzien: \"https://odata4.cbs.nl/CBS/83765NED\"\n",
    "De code van de tabel die je zoekt vindt je via Statline.\n",
    "Ga naar de data in Statline op de website van het CBS en kijk naar de URL om de code te vinden.\n",
    "Deze API is hierarchisch. "
   ]
  },
  {
   "cell_type": "code",
   "execution_count": 5,
   "metadata": {},
   "outputs": [],
   "source": [
    "def get_observations(table_url, url_filter = \"\"):\n",
    "    \n",
    "    if url_filter == \"\":\n",
    "        target_url = table_url + \"/Observations\"\n",
    "    elif \"?$filter=\" in url_filter:\n",
    "        target_url = table_url + \"/Observations\" + url_filter\n",
    "    else:\n",
    "        print(\"WAARSCHUWING! FILTER NIET GOED GEFORMATTEERD. VERGELIJK MET VOORBEELD OF GA NAAR \")\n",
    "        print(\"\\n https://www.cbs.nl/nl-nl/onze-diensten/open-data/open-data-v4/filters-odata-v4\")\n",
    "        #return None\n",
    "        pass\n",
    "    \n",
    "    data = get_odata(target_url)\n",
    "    print(data.head)\n",
    "    \n",
    "    return(data)\n",
    "\n",
    "url_voorbeeld = \"https://odata4.cbs.nl/CBS/83765NED\""
   ]
  },
  {
   "cell_type": "markdown",
   "metadata": {},
   "source": [
    "# Wat is de structuur van de data?"
   ]
  },
  {
   "cell_type": "code",
   "execution_count": 6,
   "metadata": {},
   "outputs": [
    {
     "data": {
      "text/html": [
       "<div>\n",
       "<style scoped>\n",
       "    .dataframe tbody tr th:only-of-type {\n",
       "        vertical-align: middle;\n",
       "    }\n",
       "\n",
       "    .dataframe tbody tr th {\n",
       "        vertical-align: top;\n",
       "    }\n",
       "\n",
       "    .dataframe thead th {\n",
       "        text-align: right;\n",
       "    }\n",
       "</style>\n",
       "<table border=\"1\" class=\"dataframe\">\n",
       "  <thead>\n",
       "    <tr style=\"text-align: right;\">\n",
       "      <th></th>\n",
       "      <th>kind</th>\n",
       "      <th>name</th>\n",
       "      <th>url</th>\n",
       "    </tr>\n",
       "  </thead>\n",
       "  <tbody>\n",
       "    <tr>\n",
       "      <th>0</th>\n",
       "      <td>EntitySet</td>\n",
       "      <td>MeasureGroups</td>\n",
       "      <td>MeasureGroups</td>\n",
       "    </tr>\n",
       "    <tr>\n",
       "      <th>1</th>\n",
       "      <td>EntitySet</td>\n",
       "      <td>MeasureCodes</td>\n",
       "      <td>MeasureCodes</td>\n",
       "    </tr>\n",
       "    <tr>\n",
       "      <th>2</th>\n",
       "      <td>EntitySet</td>\n",
       "      <td>Dimensions</td>\n",
       "      <td>Dimensions</td>\n",
       "    </tr>\n",
       "    <tr>\n",
       "      <th>3</th>\n",
       "      <td>EntitySet</td>\n",
       "      <td>WijkenEnBuurtenGroups</td>\n",
       "      <td>WijkenEnBuurtenGroups</td>\n",
       "    </tr>\n",
       "    <tr>\n",
       "      <th>4</th>\n",
       "      <td>EntitySet</td>\n",
       "      <td>WijkenEnBuurtenCodes</td>\n",
       "      <td>WijkenEnBuurtenCodes</td>\n",
       "    </tr>\n",
       "    <tr>\n",
       "      <th>5</th>\n",
       "      <td>EntitySet</td>\n",
       "      <td>Observations</td>\n",
       "      <td>Observations</td>\n",
       "    </tr>\n",
       "    <tr>\n",
       "      <th>6</th>\n",
       "      <td>Singleton</td>\n",
       "      <td>Properties</td>\n",
       "      <td>Properties</td>\n",
       "    </tr>\n",
       "  </tbody>\n",
       "</table>\n",
       "</div>"
      ],
      "text/plain": [
       "        kind                   name                    url\n",
       "0  EntitySet          MeasureGroups          MeasureGroups\n",
       "1  EntitySet           MeasureCodes           MeasureCodes\n",
       "2  EntitySet             Dimensions             Dimensions\n",
       "3  EntitySet  WijkenEnBuurtenGroups  WijkenEnBuurtenGroups\n",
       "4  EntitySet   WijkenEnBuurtenCodes   WijkenEnBuurtenCodes\n",
       "5  EntitySet           Observations           Observations\n",
       "6  Singleton             Properties             Properties"
      ]
     },
     "execution_count": 6,
     "metadata": {},
     "output_type": "execute_result"
    }
   ],
   "source": [
    "data_structuur = get_odata(url_voorbeeld)\n",
    "print(data_structuur)\n",
    "data_Mcodes = get_odata(url_voorbeeld+\"/MeasureCodes\")\n",
    "print(data_Mcodes.columns)"
   ]
  },
  {
   "cell_type": "code",
   "execution_count": null,
   "metadata": {},
   "outputs": [],
   "source": [
    "data_Mcodes"
   ]
  },
  {
   "cell_type": "code",
   "execution_count": 39,
   "metadata": {},
   "outputs": [
    {
     "data": {
      "text/plain": [
       "array(['Aantal inwoners', 'Mannen', 'Vrouwen', '0 tot 15 jaar',\n",
       "       '15 tot 25 jaar', '25 tot 45 jaar', '45 tot 65 jaar',\n",
       "       '65 jaar of ouder', 'Ongehuwd', 'Gehuwd', 'Gescheiden',\n",
       "       'Verweduwd', 'Westers totaal', 'Niet-westers totaal', 'Marokko',\n",
       "       'Nederlandse Antillen en Aruba', 'Suriname', 'Turkije',\n",
       "       'Overig niet-westers', 'Geboorte totaal', 'Geboorte relatief',\n",
       "       'Sterfte totaal', 'Sterfte relatief', 'Huishoudens totaal',\n",
       "       'Eenpersoonshuishoudens', 'Huishoudens zonder kinderen',\n",
       "       'Huishoudens met kinderen', 'Gemiddelde huishoudensgrootte',\n",
       "       'Bevolkingsdichtheid', 'Woningvoorraad', 'Gemiddelde woningwaarde',\n",
       "       'Percentage eengezinswoning', 'Percentage meergezinswoning',\n",
       "       'Percentage bewoond', 'Percentage onbewoond', 'Koopwoningen',\n",
       "       'Huurwoningen totaal', 'In bezit woningcorporatie',\n",
       "       'In bezit overige verhuurders', 'Eigendom onbekend',\n",
       "       'Bouwjaar voor 2000', 'Bouwjaar vanaf 2000',\n",
       "       'Gemiddeld elektriciteitsverbruik totaal', 'Appartement',\n",
       "       'Tussenwoning', 'Hoekwoning', 'Twee-onder-één-kap-woning',\n",
       "       'Vrijstaande woning', 'Huurwoning', 'Eigen woning',\n",
       "       'Gemiddeld aardgasverbruik totaal', 'Appartement', 'Tussenwoning',\n",
       "       'Hoekwoning', 'Twee-onder-één-kap-woning', 'Vrijstaande woning',\n",
       "       'Huurwoning', 'Eigen woning',\n",
       "       'Percentage woningen met stadsverwarming',\n",
       "       'Aantal inkomensontvangers\\xa0\\xa0',\n",
       "       'Gemiddeld inkomen per inkomensontvanger\\xa0',\n",
       "       'Gemiddeld inkomen per inwoner\\xa0',\n",
       "       '40% personen met laagste inkomen',\n",
       "       '20% personen met hoogste inkomen', 'Actieven 15-75 jaar',\n",
       "       '40% huishoudens met laagste inkomen',\n",
       "       '20% huishoudens met hoogste inkomen',\n",
       "       'Huishoudens met een laag inkomen',\n",
       "       'Huish. onder of rond sociaal minimum',\n",
       "       'Personen per soort uitkering; Bijstand',\n",
       "       'Personen per soort uitkering; AO',\n",
       "       'Personen per soort uitkering; WW',\n",
       "       'Personen per soort uitkering; AOW', 'Bedrijfsvestigingen totaal',\n",
       "       'A Landbouw, bosbouw en visserij', 'B-F Nijverheid en energie',\n",
       "       'G+I Handel en horeca', 'H+J Vervoer, informatie en communicatie',\n",
       "       'K-L Financiële diensten, onroerend goed',\n",
       "       'M-N Zakelijke dienstverlening',\n",
       "       'R-U Cultuur, recreatie, overige diensten',\n",
       "       \"Personenauto's totaal\", \"Personenauto's; jonger dan 6 jaar\",\n",
       "       \"Personenauto's; 6 jaar en ouder\",\n",
       "       \"Personenauto's; brandstof benzine\",\n",
       "       \"Personenauto's; overige brandstof\",\n",
       "       \"Personenauto's per huishouden\", \"Personenauto's naar oppervlakte\",\n",
       "       'Motorfietsen', 'Afstand tot huisartsenpraktijk',\n",
       "       'Afstand tot grote supermarkt', 'Afstand tot kinderdagverblijf',\n",
       "       'Afstand tot school', 'Scholen binnen 3 km', 'Oppervlakte totaal',\n",
       "       'Oppervlakte land', 'Oppervlakte water', 'Dekkingspercentage',\n",
       "       'Mate van stedelijkheid', 'Omgevingsadressendichtheid',\n",
       "       'Totaal diefstal uit woning/schuur/e.d.',\n",
       "       'Vernieling, misdrijf tegen openbare orde',\n",
       "       'Gewelds- en seksuele misdrijven'], dtype=object)"
      ]
     },
     "execution_count": 39,
     "metadata": {},
     "output_type": "execute_result"
    }
   ],
   "source": [
    "data_Mcodes['Title'].values"
   ]
  },
  {
   "cell_type": "code",
   "execution_count": 40,
   "metadata": {},
   "outputs": [],
   "source": [
    "#data_Mcodes.head(10)"
   ]
  },
  {
   "cell_type": "code",
   "execution_count": 20,
   "metadata": {},
   "outputs": [
    {
     "name": "stdout",
     "output_type": "stream",
     "text": [
      "   Id  Measure       Value ValueAttribute WijkenEnBuurten\n",
      "0   0  T001036  17081507.0           None            NL00\n",
      "1   1     3000   8475102.0           None            NL00\n",
      "2   2     4000   8606405.0           None            NL00\n",
      "3   3    10680   2781768.0           None            NL00\n",
      "4   4    53050   2101648.0           None            NL00\n"
     ]
    }
   ],
   "source": [
    "# het voorbeeld:\n",
    "#table_url = \"https://odata4.cbs.nl/CBS/83765NED\"\n",
    "\n",
    "#target_url = table_url + \"/Observations\"\n",
    "#data = get_odata(target_url)\n",
    "#print(data.head())"
   ]
  },
  {
   "cell_type": "code",
   "execution_count": 3,
   "metadata": {},
   "outputs": [
    {
     "data": {
      "text/html": [
       "<div>\n",
       "<style scoped>\n",
       "    .dataframe tbody tr th:only-of-type {\n",
       "        vertical-align: middle;\n",
       "    }\n",
       "\n",
       "    .dataframe tbody tr th {\n",
       "        vertical-align: top;\n",
       "    }\n",
       "\n",
       "    .dataframe thead th {\n",
       "        text-align: right;\n",
       "    }\n",
       "</style>\n",
       "<table border=\"1\" class=\"dataframe\">\n",
       "  <thead>\n",
       "    <tr style=\"text-align: right;\">\n",
       "      <th></th>\n",
       "      <th>name</th>\n",
       "      <th>url</th>\n",
       "    </tr>\n",
       "  </thead>\n",
       "  <tbody>\n",
       "    <tr>\n",
       "      <th>0</th>\n",
       "      <td>TableInfos</td>\n",
       "      <td>https://opendata.cbs.nl/oDataAPI/OData/84583NE...</td>\n",
       "    </tr>\n",
       "    <tr>\n",
       "      <th>1</th>\n",
       "      <td>UntypedDataSet</td>\n",
       "      <td>https://opendata.cbs.nl/oDataAPI/OData/84583NE...</td>\n",
       "    </tr>\n",
       "    <tr>\n",
       "      <th>2</th>\n",
       "      <td>TypedDataSet</td>\n",
       "      <td>https://opendata.cbs.nl/oDataAPI/OData/84583NE...</td>\n",
       "    </tr>\n",
       "    <tr>\n",
       "      <th>3</th>\n",
       "      <td>DataProperties</td>\n",
       "      <td>https://opendata.cbs.nl/oDataAPI/OData/84583NE...</td>\n",
       "    </tr>\n",
       "    <tr>\n",
       "      <th>4</th>\n",
       "      <td>CategoryGroups</td>\n",
       "      <td>https://opendata.cbs.nl/oDataAPI/OData/84583NE...</td>\n",
       "    </tr>\n",
       "    <tr>\n",
       "      <th>5</th>\n",
       "      <td>WijkenEnBuurten</td>\n",
       "      <td>https://opendata.cbs.nl/oDataAPI/OData/84583NE...</td>\n",
       "    </tr>\n",
       "  </tbody>\n",
       "</table>\n",
       "</div>"
      ],
      "text/plain": [
       "              name                                                url\n",
       "0       TableInfos  https://opendata.cbs.nl/oDataAPI/OData/84583NE...\n",
       "1   UntypedDataSet  https://opendata.cbs.nl/oDataAPI/OData/84583NE...\n",
       "2     TypedDataSet  https://opendata.cbs.nl/oDataAPI/OData/84583NE...\n",
       "3   DataProperties  https://opendata.cbs.nl/oDataAPI/OData/84583NE...\n",
       "4   CategoryGroups  https://opendata.cbs.nl/oDataAPI/OData/84583NE...\n",
       "5  WijkenEnBuurten  https://opendata.cbs.nl/oDataAPI/OData/84583NE..."
      ]
     },
     "execution_count": 3,
     "metadata": {},
     "output_type": "execute_result"
    }
   ],
   "source": [
    "#tabel 2019\n",
    "#lastyear_url = \"https://odata4.cbs.nl/CBS/84583NED\""
   ]
  },
  {
   "cell_type": "code",
   "execution_count": 34,
   "metadata": {},
   "outputs": [
    {
     "data": {
      "text/plain": [
       "Index(['Id', 'Measure', 'Value', 'ValueAttribute', 'WijkenEnBuurten'], dtype='object')"
      ]
     },
     "execution_count": 34,
     "metadata": {},
     "output_type": "execute_result"
    }
   ],
   "source": [
    "table_test = get_observations(url_voorbeeld, url_filter=\"?$filter=WijkenEnBuurten eq 'GM0363'\")"
   ]
  },
  {
   "cell_type": "code",
   "execution_count": 35,
   "metadata": {},
   "outputs": [
    {
     "name": "stdout",
     "output_type": "stream",
     "text": [
      "Index(['Id', 'Measure', 'Value', 'ValueAttribute', 'WijkenEnBuurten'], dtype='object')\n",
      "       Id    Measure     Value ValueAttribute WijkenEnBuurten\n",
      "0   88579    CRI3000       9.0           None          GM0363\n",
      "1   88578    CRI2000       6.0           None          GM0363\n",
      "2   88577    CRI1100       6.0           None          GM0363\n",
      "3   88576     ST0003    6004.0           None          GM0363\n",
      "4   88575     ST0001       1.0           None          GM0363\n",
      "5   88573    A047040    5416.0           None          GM0363\n",
      "6   88572    A047044   16533.0           None          GM0363\n",
      "7   88571  T001455_2   21949.0           None          GM0363\n",
      "8   88570    D000263      28.5           None          GM0363\n",
      "9   88569    D000045       0.5           None          GM0363\n",
      "10  88568    D000029       0.4           None          GM0363\n",
      "11  88567    D000025       0.5           None          GM0363\n",
      "12  88566    D000028       0.5           None          GM0363\n",
      "13  88565    A018944   18750.0           None          GM0363\n",
      "14  88564  A018943_5    1414.0           None          GM0363\n",
      "15  88563    M000368       0.5           None          GM0363\n",
      "16  88562    M002179   50255.0           None          GM0363\n",
      "17  88561    A019276  183460.0           None          GM0363\n",
      "18  88560      72003  163960.0           None          GM0363\n",
      "19  88559      40001   69755.0           None          GM0363\n",
      "20  88558  A018943_2  233715.0           None          GM0363\n",
      "21  88557     300014   22970.0           None          GM0363\n",
      "22  88556     300010   39550.0           None          GM0363\n",
      "23  88555     300009   10850.0           None          GM0363\n",
      "24  88554     383105   16040.0           None          GM0363\n",
      "25  88553     300005   20380.0           None          GM0363\n",
      "26  88552     300003    8305.0           None          GM0363\n",
      "27  88551     301000     110.0           None          GM0363\n",
      "28  88550  M000200_2  118200.0           None          GM0363\n",
      "29  88549    D000193   96840.0           None          GM0363\n"
     ]
    }
   ],
   "source": [
    "print(table_test.columns)\n",
    "print(table_test.head(30))\n",
    "# Kolom ValueAttribute heeft geen waarden"
   ]
  },
  {
   "cell_type": "markdown",
   "metadata": {},
   "source": [
    "## Filteren van query\n",
    "Het filteren van de data maakt het downloaden sneller.\n",
    "Het filteren van 'Observations' data kan door code van dit format achter de url te plakken:\n",
    "\n",
    "**?$filter=WijkenEnBuurten eq 'GM0363' and Measure eq 'T001036'**\n",
    "\n",
    "De code uit de kolom WijkenEnBuurten kun je vinden met \n",
    "\n",
    "**get_odata(table_url + \"/WijkenEnBuurtenCodes\")**\n",
    "\n",
    "De 'Title' kolom van deze tabel bevat de namen van wijken, zodat je kan zoeken met str.find, <>.str.contains of Regex.\n",
    "Zoals wel vaken met tektskolommen moet je dan vertrouwen op de volledigheid en consistentie.\n",
    "Achteraf controleren of je alle wijken hebt is dus wel aangeraden.\n",
    "De kolom WijkenenBuurten bevat zowel landen, gemeenten, wijken als buurten.\n",
    "Aan het voorvoegsel van twee letters kun je zien met welke soort regio je te maken hebt.\n",
    "\n",
    "Zie https://www.cbs.nl/nl-nl/onze-diensten/open-data/open-data-v4/filters-odata-v4 voor meer uitleg."
   ]
  },
  {
   "cell_type": "code",
   "execution_count": 11,
   "metadata": {},
   "outputs": [
    {
     "name": "stdout",
     "output_type": "stream",
     "text": [
      "1960\n",
      "Index(['Description', 'Id', 'Index', 'ParentId', 'Title'], dtype='object')\n",
      "  Description      Id  Index ParentId                           Title\n",
      "0        None    WBGM      0     None  Wijken en buurten per gemeente\n",
      "1        None  GM1680      1     WBGM                     Aa en Hunze\n",
      "2        None  GM0738      2     WBGM                         Aalburg\n",
      "3        None  GM0358      3     WBGM                        Aalsmeer\n",
      "4        None  GM0197      4     WBGM                          Aalten\n",
      "5        None  GM0059      5     WBGM                   Achtkarspelen\n",
      "6        None  GM0482      6     WBGM                    Alblasserdam\n",
      "7        None  GM0613      7     WBGM                   Albrandswaard\n",
      "8        None  GM0361      8     WBGM                         Alkmaar\n",
      "9        None  GM0141      9     WBGM                          Almelo\n"
     ]
    }
   ],
   "source": [
    "# Deze tabel bevat alle gemeente, maar GEEN info over wijken en buurten\n",
    "data_gemeenten = get_odata(url_voorbeeld+\"/WijkenEnBuurtenGroups\")\n",
    "print(data_gemeenten.size)\n",
    "print(data_gemeenten.columns)\n",
    "print(data_gemeenten.head(10))\n",
    "# ParentId geeft voor wijken de buurt aan, voor wijken de plaatsnaam, voorplaatsnamen de gemeente etc."
   ]
  },
  {
   "cell_type": "code",
   "execution_count": 20,
   "metadata": {},
   "outputs": [
    {
     "name": "stdout",
     "output_type": "stream",
     "text": [
      "    Description      Id  Index ParentId Title\n",
      "254        None  GM0828    254     WBGM   Oss\n"
     ]
    },
    {
     "data": {
      "text/plain": [
       "'GM0828'"
      ]
     },
     "execution_count": 20,
     "metadata": {},
     "output_type": "execute_result"
    }
   ],
   "source": [
    "filter_gemeente = data_gemeenten['Title'] == 'Oss'\n",
    "print(data_gemeenten[filter_gemeente])\n",
    "selectie_gem = data_gemeenten[filter_gemeente]['Id'].values[0]\n",
    "selectie_gem"
   ]
  },
  {
   "cell_type": "code",
   "execution_count": 21,
   "metadata": {},
   "outputs": [
    {
     "name": "stdout",
     "output_type": "stream",
     "text": [
      "100002\n",
      "Index(['Description', 'DetailRegionCode', 'DimensionGroupId', 'Identifier',\n",
      "       'Index', 'Title'],\n",
      "      dtype='object')\n",
      "  Description DetailRegionCode DimensionGroupId  Identifier  Index  \\\n",
      "0                         None               NL        NL00      1   \n",
      "1                       GM1680               GM      GM1680      2   \n",
      "2                     WK168000           GM1680    WK168000      3   \n",
      "3                   BU16800000           GM1680  BU16800000      4   \n",
      "4                   BU16800009           GM1680  BU16800009      5   \n",
      "5                     WK168001           GM1680    WK168001      6   \n",
      "6                   BU16800100           GM1680  BU16800100      7   \n",
      "7                   BU16800109           GM1680  BU16800109      8   \n",
      "8                     WK168002           GM1680    WK168002      9   \n",
      "9                   BU16800200           GM1680  BU16800200     10   \n",
      "\n",
      "                     Title  \n",
      "0                Nederland  \n",
      "1              Aa en Hunze  \n",
      "2            Wijk 00 Annen  \n",
      "3                    Annen  \n",
      "4  Verspreide huizen Annen  \n",
      "5             Wijk 01 Eext  \n",
      "6                     Eext  \n",
      "7   Verspreide huizen Eext  \n",
      "8            Wijk 02 Anloo  \n",
      "9                    Anloo  \n"
     ]
    }
   ],
   "source": [
    "# Deze tabel bevat codes van wijken en buurten en toont bij welke gemeente ze horen. De gemeenten staan er ook in.\n",
    "data_geocodes = get_odata(url_voorbeeld+\"/WijkenEnBuurtenCodes\")\n",
    "print(data_geocodes.size)\n",
    "print(data_geocodes.columns)\n",
    "print(data_geocodes.head(10))\n",
    "# Ik denk dat DimensionGroupId te maken heeft met hierarchische indeling maar niet hetzelfde is als parentId.\n",
    "# DetailRegionCode is hetzelfde als Identifier"
   ]
  },
  {
   "cell_type": "code",
   "execution_count": 28,
   "metadata": {},
   "outputs": [],
   "source": [
    "# Gebruik van Regular Expressions sterk aanbevolen om verschil met hele woorden te zien,\n",
    "# Maakt implementatie wel iets ingewikkelder.\n",
    "#filter_groepen_BU = data_gemeenten['Id'].str.contains(\"GM\")\n",
    "filter_geocodes_BU = data_geocodes['Identifier'].str.contains(\"BU\")\n",
    "filter_geocodes_WK = data_geocodes['Identifier'].str.contains(\"WK\")\n",
    "\n",
    "filter_BUWKopgem = data_geocodes['DimensionGroupId'] == selectie_gem"
   ]
  },
  {
   "cell_type": "code",
   "execution_count": 41,
   "metadata": {},
   "outputs": [],
   "source": [
    "#selectie_BU = data_geocodes[filter_geocodes_BU & filter_BUWKopgem]\n",
    "#selectie_WK = data_geocodes[filter_geocodes_WK & filter_BUWKopgem]"
   ]
  },
  {
   "cell_type": "code",
   "execution_count": null,
   "metadata": {},
   "outputs": [],
   "source": []
  },
  {
   "cell_type": "code",
   "execution_count": null,
   "metadata": {},
   "outputs": [],
   "source": []
  },
  {
   "cell_type": "markdown",
   "metadata": {},
   "source": [
    "# To do: \n",
    "- Bedenk efficiente methode om tabellen samen te voegen en maak er een functie van."
   ]
  },
  {
   "cell_type": "code",
   "execution_count": null,
   "metadata": {},
   "outputs": [],
   "source": []
  }
 ],
 "metadata": {
  "kernelspec": {
   "display_name": "Python 3",
   "language": "python",
   "name": "python3"
  },
  "language_info": {
   "codemirror_mode": {
    "name": "ipython",
    "version": 3
   },
   "file_extension": ".py",
   "mimetype": "text/x-python",
   "name": "python",
   "nbconvert_exporter": "python",
   "pygments_lexer": "ipython3",
   "version": "3.6.8"
  }
 },
 "nbformat": 4,
 "nbformat_minor": 2
}
